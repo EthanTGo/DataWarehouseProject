{
 "cells": [
  {
   "cell_type": "code",
   "execution_count": 1,
   "id": "647b1671",
   "metadata": {},
   "outputs": [],
   "source": [
    "import pandas as pd"
   ]
  },
  {
   "cell_type": "code",
   "execution_count": null,
   "id": "e5990de4",
   "metadata": {},
   "outputs": [],
   "source": [
    "'''\n",
    "Read Data\n",
    "'''\n",
    "\n",
    "top250 = pd.read_csv(\"restaurants_top2020/Top250.csv\")\n",
    "independence100 = pd.read_csv(\"restaurants_top2020/Independence100.csv\")\n",
    "future50 = pd.read_csv(\"restaurants_top2020/Future50.csv\")\n"
   ]
  }
 ],
 "metadata": {
  "kernelspec": {
   "display_name": "Python 3",
   "language": "python",
   "name": "python3"
  },
  "language_info": {
   "codemirror_mode": {
    "name": "ipython",
    "version": 3
   },
   "file_extension": ".py",
   "mimetype": "text/x-python",
   "name": "python",
   "nbconvert_exporter": "python",
   "pygments_lexer": "ipython3",
   "version": "3.8.8"
  }
 },
 "nbformat": 4,
 "nbformat_minor": 5
}
