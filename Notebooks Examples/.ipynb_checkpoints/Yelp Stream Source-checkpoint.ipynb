{
 "cells": [
  {
   "cell_type": "markdown",
   "id": "6794969f",
   "metadata": {},
   "source": [
    "# Importing the Yelp"
   ]
  },
  {
   "cell_type": "code",
   "execution_count": 1,
   "id": "ba2f55b5",
   "metadata": {},
   "outputs": [],
   "source": [
    "import numpy as np\n",
    "import pandas as pd\n",
    "import requests\n",
    "from YelpAPIConfig import get_my_key"
   ]
  },
  {
   "cell_type": "code",
   "execution_count": 2,
   "id": "ac8e6982",
   "metadata": {},
   "outputs": [
    {
     "name": "stdout",
     "output_type": "stream",
     "text": [
      "mKpVo5-79kRaw5NUxKwZUr0s5Gz59uf-5rdfZm658gRqgTWTgjnAq7TuXxSVwUfjli7x7IEJhTN8-gg2xE-2KRjiMmhBc4eOxh5Ajix1SqLVubVvwz039LlEAi6DYXYx\n"
     ]
    }
   ],
   "source": [
    "'''\n",
    "Yelp has multipled different API\n",
    "\n",
    "For this notebook we are going to focus on working with YelpFusion\n",
    "'''\n",
    "\n",
    "# The following will only run if you have the YelpAPI.py file with\n",
    "# your associated API key for using YelpFusion\n",
    "print(get_my_key)"
   ]
  },
  {
   "cell_type": "code",
   "execution_count": 3,
   "id": "0887afae",
   "metadata": {},
   "outputs": [],
   "source": [
    "# Define the API Key, the Endpoint and the Header erquired to use YelpFusionAPI\n",
    "API_KEY = get_my_key\n",
    "ENDPOINT = 'https://api.yelp.com/v3/businesses/search'\n",
    "HEADERS = {'Authorization': 'bearer %s' %API_KEY}"
   ]
  },
  {
   "cell_type": "code",
   "execution_count": 4,
   "id": "6822cf63",
   "metadata": {},
   "outputs": [],
   "source": [
    "# Define the parameters\n",
    "PARAMETERS = {\n",
    "    'term':'restaurant',\n",
    "    'limit':50,\n",
    "    'location':'Boston',\n",
    "    'radius': 10000\n",
    "}"
   ]
  },
  {
   "cell_type": "code",
   "execution_count": 5,
   "id": "4d3cf49c",
   "metadata": {},
   "outputs": [],
   "source": [
    "# Make a request to the yelp API\n",
    "response = requests.get(url = ENDPOINT, params = PARAMETERS, headers = HEADERS)\n",
    "\n",
    "# convert JSON String to Dictionary\n",
    "business_data = response.json()\n"
   ]
  },
  {
   "cell_type": "code",
   "execution_count": 6,
   "id": "c3bd4092",
   "metadata": {},
   "outputs": [
    {
     "name": "stdout",
     "output_type": "stream",
     "text": [
      "dict_keys(['businesses', 'total', 'region'])\n"
     ]
    }
   ],
   "source": [
    "print(business_data.keys())\n",
    "#print(business_data)"
   ]
  },
  {
   "cell_type": "code",
   "execution_count": 7,
   "id": "410d15a3",
   "metadata": {},
   "outputs": [
    {
     "name": "stdout",
     "output_type": "stream",
     "text": [
      "Saltie Girl\n",
      "Carmelina's\n",
      "Buttermilk & Bourbon\n",
      "Q Restaurant\n",
      "Toro\n",
      "The Salty Pig\n",
      "Milkweed\n",
      "Neptune Oyster\n",
      "Giacomo's Ristorante - Boston\n",
      "Bootleg Special\n",
      "Yvonne's\n",
      "Barcelona Wine Bar South End\n",
      "Bostonia Public House\n",
      "The Friendly Toast\n",
      "The Daily Catch\n",
      "The Emory\n",
      "Luke's Lobster Back Bay\n",
      "Earls Kitchen + Bar\n",
      "Citrus & Salt\n",
      "Pomodoro\n",
      "Tora Japanese Restaurant\n",
      "Giacomo's\n",
      "RED WHITE BUDDHA RAMEN \n",
      "The Banks Fish House\n",
      "Krasi\n",
      "SOJUba\n",
      "Lolita Cocina & Tequila Bar Back Bay\n",
      "Ma Maison\n",
      "Chalawan\n",
      "Parish Cafe and Bar\n",
      "Nagomi Izakaya\n",
      "Myers & Chang\n",
      "Row 34\n",
      "The Beehive\n",
      "Atlantic Fish Co\n",
      "Fuji at Ink Block\n",
      "Yakitori Totto\n",
      "Oleana Restaurant\n",
      "Lanzhou Fresh Noodles\n",
      "Piattini\n",
      "Ostra\n",
      "Sarma\n",
      "Mistral\n",
      "O Ya\n",
      "Seoul Jangteo\n",
      "Futago Udon\n",
      "Yankee Lobster\n",
      "Aquitaine\n",
      "Stillwater\n",
      "Coppa Enoteca\n"
     ]
    }
   ],
   "source": [
    "for biz in business_data['businesses']:\n",
    "    print(biz['name'])"
   ]
  },
  {
   "cell_type": "code",
   "execution_count": null,
   "id": "622b7334",
   "metadata": {},
   "outputs": [],
   "source": [
    "'''\n",
    "Find Recent Reviews and stores it \n",
    "'''"
   ]
  }
 ],
 "metadata": {
  "interpreter": {
   "hash": "31f2aee4e71d21fbe5cf8b01ff0e069b9275f58929596ceb00d14d90e3e16cd6"
  },
  "kernelspec": {
   "display_name": "Python 3",
   "language": "python",
   "name": "python3"
  },
  "language_info": {
   "codemirror_mode": {
    "name": "ipython",
    "version": 3
   },
   "file_extension": ".py",
   "mimetype": "text/x-python",
   "name": "python",
   "nbconvert_exporter": "python",
   "pygments_lexer": "ipython3",
   "version": "3.8.8"
  }
 },
 "nbformat": 4,
 "nbformat_minor": 5
}
