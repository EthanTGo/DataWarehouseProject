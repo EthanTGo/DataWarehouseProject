{
 "cells": [
  {
   "cell_type": "code",
   "execution_count": 1,
   "id": "8dcdddfd",
   "metadata": {},
   "outputs": [],
   "source": [
    "import pandas as pd"
   ]
  },
  {
   "cell_type": "code",
   "execution_count": 17,
   "id": "ec24f0fc",
   "metadata": {},
   "outputs": [],
   "source": [
    "'''\n",
    "Read Data and loading it into the system\n",
    "'''\n",
    "\n",
    "top250 = pd.read_csv(\"restaurants_top2020/Top250.csv\")"
   ]
  },
  {
   "cell_type": "code",
   "execution_count": 18,
   "id": "dea43fb7",
   "metadata": {},
   "outputs": [
    {
     "data": {
      "text/html": [
       "<div>\n",
       "<style scoped>\n",
       "    .dataframe tbody tr th:only-of-type {\n",
       "        vertical-align: middle;\n",
       "    }\n",
       "\n",
       "    .dataframe tbody tr th {\n",
       "        vertical-align: top;\n",
       "    }\n",
       "\n",
       "    .dataframe thead th {\n",
       "        text-align: right;\n",
       "    }\n",
       "</style>\n",
       "<table border=\"1\" class=\"dataframe\">\n",
       "  <thead>\n",
       "    <tr style=\"text-align: right;\">\n",
       "      <th></th>\n",
       "      <th>Rank</th>\n",
       "      <th>Restaurant</th>\n",
       "      <th>Content</th>\n",
       "      <th>Sales</th>\n",
       "      <th>YOY_Sales</th>\n",
       "      <th>Units</th>\n",
       "      <th>YOY_Units</th>\n",
       "      <th>Headquarters</th>\n",
       "      <th>Segment_Category</th>\n",
       "    </tr>\n",
       "  </thead>\n",
       "  <tbody>\n",
       "    <tr>\n",
       "      <th>0</th>\n",
       "      <td>1</td>\n",
       "      <td>McDonald's</td>\n",
       "      <td>NaN</td>\n",
       "      <td>40412</td>\n",
       "      <td>4.9%</td>\n",
       "      <td>13846</td>\n",
       "      <td>-0.5%</td>\n",
       "      <td>NaN</td>\n",
       "      <td>Quick Service &amp; Burger</td>\n",
       "    </tr>\n",
       "    <tr>\n",
       "      <th>1</th>\n",
       "      <td>2</td>\n",
       "      <td>Starbucks</td>\n",
       "      <td>NaN</td>\n",
       "      <td>21380</td>\n",
       "      <td>8.6%</td>\n",
       "      <td>15049</td>\n",
       "      <td>3.0%</td>\n",
       "      <td>NaN</td>\n",
       "      <td>Quick Service &amp; Coffee Cafe</td>\n",
       "    </tr>\n",
       "    <tr>\n",
       "      <th>2</th>\n",
       "      <td>3</td>\n",
       "      <td>Chick-fil-A</td>\n",
       "      <td>While Popeyes got a lot of the chicken buzz in...</td>\n",
       "      <td>11320</td>\n",
       "      <td>13.0%</td>\n",
       "      <td>2470</td>\n",
       "      <td>5.0%</td>\n",
       "      <td>NaN</td>\n",
       "      <td>Quick Service &amp; Chicken</td>\n",
       "    </tr>\n",
       "  </tbody>\n",
       "</table>\n",
       "</div>"
      ],
      "text/plain": [
       "   Rank   Restaurant                                            Content  \\\n",
       "0     1   McDonald's                                                NaN   \n",
       "1     2    Starbucks                                                NaN   \n",
       "2     3  Chick-fil-A  While Popeyes got a lot of the chicken buzz in...   \n",
       "\n",
       "   Sales YOY_Sales  Units YOY_Units Headquarters             Segment_Category  \n",
       "0  40412      4.9%  13846     -0.5%          NaN       Quick Service & Burger  \n",
       "1  21380      8.6%  15049      3.0%          NaN  Quick Service & Coffee Cafe  \n",
       "2  11320     13.0%   2470      5.0%          NaN      Quick Service & Chicken  "
      ]
     },
     "execution_count": 18,
     "metadata": {},
     "output_type": "execute_result"
    }
   ],
   "source": [
    "top250.head(3)"
   ]
  },
  {
   "cell_type": "markdown",
   "id": "bb83c2c6",
   "metadata": {},
   "source": [
    "### Checking top250's data\n",
    "\n",
    "#### For this project, we will only be working on the top250's restaurant data and storing it in a data warehouse to be use as a combination for further analysis"
   ]
  },
  {
   "cell_type": "code",
   "execution_count": 19,
   "id": "6e2b0084",
   "metadata": {},
   "outputs": [
    {
     "data": {
      "text/plain": [
       "array(['Quick Service & Burger', 'Quick Service & Coffee Cafe',\n",
       "       'Quick Service & Chicken', 'Quick Service & Mexican',\n",
       "       'Quick Service & Sandwich', 'Quick Service & Pizza',\n",
       "       'Fast Casual & Bakery Cafe', 'Fast Casual & Mexican',\n",
       "       'Casual Dining & Italian/Pizza', 'Casual Dining & Varied Menu',\n",
       "       'Fast Casual & Asian/Noodle', 'Quick Service & Frozen Desserts',\n",
       "       'Casual Dining & Sports Bar', 'Family Dining & Family Style',\n",
       "       'Casual Dining & Steak', 'Casual Dining & Seafood',\n",
       "       'Fast Casual & Sandwich', 'Fast Casual & Chicken',\n",
       "       'Quick Service & Family Casual', 'Fast Casual & Burger',\n",
       "       'Casual Dining & Asian', 'Quick Service & Snack', 'Steak',\n",
       "       'Quick Service & Beverage', 'Sports Bar',\n",
       "       'Quick Service & Seafood', 'Quick Service & Bakery Cafe',\n",
       "       'Fast Casual & Pizza', 'Fine Dining & Steak', 'Mexican',\n",
       "       'Varied Menu', 'Chicken', 'Italian/Pizza', 'Pizza', 'Seafood',\n",
       "       'Frozen Desserts', 'Coffee Cafe', 'BBQ', 'Sandwich', 'Bakery Cafe',\n",
       "       'Burger', 'Asian', 'Family Style', 'Asian/Noodle', 'Family Casual',\n",
       "       'Snack', 'Healthy', 'Ethnic'], dtype=object)"
      ]
     },
     "execution_count": 19,
     "metadata": {},
     "output_type": "execute_result"
    }
   ],
   "source": [
    "restaurant_categories = top250['Segment_Category'].unique()\n",
    "restaurant_categories"
   ]
  },
  {
   "cell_type": "code",
   "execution_count": 20,
   "id": "cdf42d2b",
   "metadata": {},
   "outputs": [
    {
     "name": "stdout",
     "output_type": "stream",
     "text": [
      "Fast Casual & Asian/Noodle\n",
      "Casual Dining & Asian\n",
      "Asian\n",
      "Asian/Noodle\n"
     ]
    }
   ],
   "source": [
    "for category in restaurant_categories:\n",
    "    if 'Asian' in category:\n",
    "        print(category)"
   ]
  },
  {
   "cell_type": "code",
   "execution_count": null,
   "id": "43ad7520",
   "metadata": {},
   "outputs": [],
   "source": []
  }
 ],
 "metadata": {
  "kernelspec": {
   "display_name": "Python 3",
   "language": "python",
   "name": "python3"
  },
  "language_info": {
   "codemirror_mode": {
    "name": "ipython",
    "version": 3
   },
   "file_extension": ".py",
   "mimetype": "text/x-python",
   "name": "python",
   "nbconvert_exporter": "python",
   "pygments_lexer": "ipython3",
   "version": "3.8.8"
  }
 },
 "nbformat": 4,
 "nbformat_minor": 5
}
